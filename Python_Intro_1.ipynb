{
  "nbformat": 4,
  "nbformat_minor": 0,
  "metadata": {
    "colab": {
      "provenance": []
    },
    "kernelspec": {
      "name": "python3",
      "display_name": "Python 3"
    },
    "language_info": {
      "name": "python"
    }
  },
  "cells": [
    {
      "cell_type": "code",
      "execution_count": null,
      "metadata": {
        "id": "zyfOOSBz1Cj8",
        "colab": {
          "base_uri": "https://localhost:8080/"
        },
        "outputId": "cda41b9f-5c6f-4ee5-cbda-18558756f383"
      },
      "outputs": [
        {
          "output_type": "stream",
          "name": "stdout",
          "text": [
            "Hello World!\n"
          ]
        }
      ],
      "source": [
        "#display\n",
        "print(\"Hello World!\")"
      ]
    },
    {
      "cell_type": "markdown",
      "source": [
        "#Types & Basic Syntax"
      ],
      "metadata": {
        "id": "MtiBYorl4WaA"
      }
    },
    {
      "cell_type": "code",
      "source": [
        "#variables\n",
        "x=6 #number (\"int\")\n",
        "y=x*7\n",
        "print(\"6 times 7 is: \" + str(y)) #str(y) \"casts\" y (an integer type) to a string type"
      ],
      "metadata": {
        "id": "xcmACCuR2xba",
        "colab": {
          "base_uri": "https://localhost:8080/"
        },
        "outputId": "149d649b-f211-4a77-f678-a9ee4829a89f"
      },
      "execution_count": null,
      "outputs": [
        {
          "output_type": "stream",
          "name": "stdout",
          "text": [
            "6 times 7 is: 42\n"
          ]
        }
      ]
    },
    {
      "cell_type": "code",
      "source": [
        "#python types are flexible, but they are not invulnerable! This should error.\n",
        "print(\"6 times 7 is: \"+y)"
      ],
      "metadata": {
        "id": "PttOg9_O3Cg3",
        "colab": {
          "base_uri": "https://localhost:8080/",
          "height": 193
        },
        "outputId": "f0ce3a96-62b0-4c8e-c594-840c0b5fecd6"
      },
      "execution_count": null,
      "outputs": [
        {
          "output_type": "error",
          "ename": "TypeError",
          "evalue": "ignored",
          "traceback": [
            "\u001b[0;31m---------------------------------------------------------------------------\u001b[0m",
            "\u001b[0;31mTypeError\u001b[0m                                 Traceback (most recent call last)",
            "\u001b[0;32m<ipython-input-3-03e2da73a215>\u001b[0m in \u001b[0;36m<cell line: 2>\u001b[0;34m()\u001b[0m\n\u001b[1;32m      1\u001b[0m \u001b[0;31m#python types are flexible, but they are not invulnerable! This should error.\u001b[0m\u001b[0;34m\u001b[0m\u001b[0;34m\u001b[0m\u001b[0m\n\u001b[0;32m----> 2\u001b[0;31m \u001b[0mprint\u001b[0m\u001b[0;34m(\u001b[0m\u001b[0;34m\"6 times 7 is: \"\u001b[0m\u001b[0;34m+\u001b[0m\u001b[0my\u001b[0m\u001b[0;34m)\u001b[0m\u001b[0;34m\u001b[0m\u001b[0;34m\u001b[0m\u001b[0m\n\u001b[0m",
            "\u001b[0;31mTypeError\u001b[0m: can only concatenate str (not \"int\") to str"
          ]
        }
      ]
    },
    {
      "cell_type": "code",
      "source": [
        "#input\n",
        "name=input(\"Name: \") #name is a string\n",
        "age_str=input(\"Age: \")\n",
        "#age_str is a string, not an integer. We have to convert\n",
        "age=int(age_str)\n",
        "age=age+10\n",
        "#alternative synatx for print\n",
        "print(\"Hi %s, in 10 years you will be %d years old.\" % (name, age))"
      ],
      "metadata": {
        "colab": {
          "base_uri": "https://localhost:8080/"
        },
        "id": "2PzpAaWv3mUw",
        "outputId": "caefb76b-a9cc-404c-a73a-b4bd30ad393c"
      },
      "execution_count": null,
      "outputs": [
        {
          "output_type": "stream",
          "name": "stdout",
          "text": [
            "Name: Bob\n",
            "Age: 15\n",
            "Hi Bob, in 10 years you will be 25 years old.\n"
          ]
        }
      ]
    }
  ]
}